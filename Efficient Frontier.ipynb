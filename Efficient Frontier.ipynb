{
 "cells": [
  {
   "cell_type": "markdown",
   "metadata": {},
   "source": [
    "# Efficient Frontier"
   ]
  },
  {
   "cell_type": "code",
   "execution_count": 91,
   "metadata": {},
   "outputs": [
    {
     "name": "stdout",
     "output_type": "stream",
     "text": [
      "The autoreload extension is already loaded. To reload it, use:\n",
      "  %reload_ext autoreload\n"
     ]
    },
    {
     "data": {
      "text/plain": [
       "<module 'edhec_risk_kit' from 'C:\\\\Users\\\\trann\\\\edhec_risk_kit.py'>"
      ]
     },
     "execution_count": 91,
     "metadata": {},
     "output_type": "execute_result"
    }
   ],
   "source": [
    "%config IPCompleter.use_jedi = False\n",
    "%load_ext autoreload\n",
    "%autoreload 2\n",
    "%matplotlib inline\n",
    "import edhec_risk_kit as erk\n",
    "from imp import reload\n",
    "reload(erk)\n",
    "\n"
   ]
  },
  {
   "cell_type": "code",
   "execution_count": 80,
   "metadata": {},
   "outputs": [],
   "source": [
    "import pandas as pd\n",
    "import numpy as np"
   ]
  },
  {
   "cell_type": "code",
   "execution_count": 81,
   "metadata": {},
   "outputs": [],
   "source": [
    "ind=pd.read_csv(\"data/ind49_m_vw_rets.csv\", header=0, index_col=0, parse_dates=True)/100"
   ]
  },
  {
   "cell_type": "code",
   "execution_count": 82,
   "metadata": {},
   "outputs": [
    {
     "data": {
      "text/html": [
       "<div>\n",
       "<style scoped>\n",
       "    .dataframe tbody tr th:only-of-type {\n",
       "        vertical-align: middle;\n",
       "    }\n",
       "\n",
       "    .dataframe tbody tr th {\n",
       "        vertical-align: top;\n",
       "    }\n",
       "\n",
       "    .dataframe thead th {\n",
       "        text-align: right;\n",
       "    }\n",
       "</style>\n",
       "<table border=\"1\" class=\"dataframe\">\n",
       "  <thead>\n",
       "    <tr style=\"text-align: right;\">\n",
       "      <th></th>\n",
       "      <th>Agric</th>\n",
       "      <th>Food</th>\n",
       "      <th>Soda</th>\n",
       "      <th>Beer</th>\n",
       "      <th>Smoke</th>\n",
       "      <th>Toys</th>\n",
       "      <th>Fun</th>\n",
       "      <th>Books</th>\n",
       "      <th>Hshld</th>\n",
       "      <th>Clths</th>\n",
       "      <th>...</th>\n",
       "      <th>Boxes</th>\n",
       "      <th>Trans</th>\n",
       "      <th>Whlsl</th>\n",
       "      <th>Rtail</th>\n",
       "      <th>Meals</th>\n",
       "      <th>Banks</th>\n",
       "      <th>Insur</th>\n",
       "      <th>RlEst</th>\n",
       "      <th>Fin</th>\n",
       "      <th>Other</th>\n",
       "    </tr>\n",
       "  </thead>\n",
       "  <tbody>\n",
       "    <tr>\n",
       "      <th>192607</th>\n",
       "      <td>0.0237</td>\n",
       "      <td>0.0012</td>\n",
       "      <td>-0.9999</td>\n",
       "      <td>-0.0519</td>\n",
       "      <td>0.0129</td>\n",
       "      <td>0.0865</td>\n",
       "      <td>0.0250</td>\n",
       "      <td>0.5021</td>\n",
       "      <td>-0.0048</td>\n",
       "      <td>0.0808</td>\n",
       "      <td>...</td>\n",
       "      <td>0.0770</td>\n",
       "      <td>0.0194</td>\n",
       "      <td>-0.2379</td>\n",
       "      <td>0.0007</td>\n",
       "      <td>0.0187</td>\n",
       "      <td>0.0461</td>\n",
       "      <td>-0.0054</td>\n",
       "      <td>0.0289</td>\n",
       "      <td>-0.0485</td>\n",
       "      <td>0.0520</td>\n",
       "    </tr>\n",
       "    <tr>\n",
       "      <th>192608</th>\n",
       "      <td>0.0223</td>\n",
       "      <td>0.0268</td>\n",
       "      <td>-0.9999</td>\n",
       "      <td>0.2703</td>\n",
       "      <td>0.0650</td>\n",
       "      <td>0.1681</td>\n",
       "      <td>-0.0076</td>\n",
       "      <td>0.4298</td>\n",
       "      <td>-0.0358</td>\n",
       "      <td>-0.0251</td>\n",
       "      <td>...</td>\n",
       "      <td>-0.0238</td>\n",
       "      <td>0.0488</td>\n",
       "      <td>0.0539</td>\n",
       "      <td>-0.0075</td>\n",
       "      <td>-0.0013</td>\n",
       "      <td>0.1183</td>\n",
       "      <td>0.0257</td>\n",
       "      <td>0.0530</td>\n",
       "      <td>-0.0057</td>\n",
       "      <td>0.0676</td>\n",
       "    </tr>\n",
       "    <tr>\n",
       "      <th>192609</th>\n",
       "      <td>-0.0057</td>\n",
       "      <td>0.0158</td>\n",
       "      <td>-0.9999</td>\n",
       "      <td>0.0402</td>\n",
       "      <td>0.0126</td>\n",
       "      <td>0.0833</td>\n",
       "      <td>0.0642</td>\n",
       "      <td>-0.0491</td>\n",
       "      <td>0.0073</td>\n",
       "      <td>-0.0051</td>\n",
       "      <td>...</td>\n",
       "      <td>-0.0554</td>\n",
       "      <td>0.0006</td>\n",
       "      <td>-0.0787</td>\n",
       "      <td>0.0025</td>\n",
       "      <td>-0.0056</td>\n",
       "      <td>-0.0175</td>\n",
       "      <td>0.0072</td>\n",
       "      <td>-0.0306</td>\n",
       "      <td>-0.0314</td>\n",
       "      <td>-0.0386</td>\n",
       "    </tr>\n",
       "    <tr>\n",
       "      <th>192610</th>\n",
       "      <td>-0.0046</td>\n",
       "      <td>-0.0368</td>\n",
       "      <td>-0.9999</td>\n",
       "      <td>-0.0331</td>\n",
       "      <td>0.0106</td>\n",
       "      <td>-0.0140</td>\n",
       "      <td>-0.0509</td>\n",
       "      <td>0.0537</td>\n",
       "      <td>-0.0468</td>\n",
       "      <td>0.0012</td>\n",
       "      <td>...</td>\n",
       "      <td>-0.0508</td>\n",
       "      <td>-0.0264</td>\n",
       "      <td>-0.1538</td>\n",
       "      <td>-0.0220</td>\n",
       "      <td>-0.0411</td>\n",
       "      <td>-0.1182</td>\n",
       "      <td>-0.0428</td>\n",
       "      <td>-0.0574</td>\n",
       "      <td>0.0207</td>\n",
       "      <td>-0.0849</td>\n",
       "    </tr>\n",
       "    <tr>\n",
       "      <th>192611</th>\n",
       "      <td>0.0675</td>\n",
       "      <td>0.0626</td>\n",
       "      <td>-0.9999</td>\n",
       "      <td>0.0729</td>\n",
       "      <td>0.0455</td>\n",
       "      <td>0.0000</td>\n",
       "      <td>0.0182</td>\n",
       "      <td>-0.0640</td>\n",
       "      <td>-0.0054</td>\n",
       "      <td>0.0187</td>\n",
       "      <td>...</td>\n",
       "      <td>0.0384</td>\n",
       "      <td>0.0160</td>\n",
       "      <td>0.0467</td>\n",
       "      <td>0.0652</td>\n",
       "      <td>0.0433</td>\n",
       "      <td>-0.0297</td>\n",
       "      <td>0.0358</td>\n",
       "      <td>0.0221</td>\n",
       "      <td>0.0492</td>\n",
       "      <td>0.0400</td>\n",
       "    </tr>\n",
       "  </tbody>\n",
       "</table>\n",
       "<p>5 rows × 49 columns</p>\n",
       "</div>"
      ],
      "text/plain": [
       "         Agric   Food    Soda    Beer    Smoke   Toys    Fun     Books  \\\n",
       "192607  0.0237  0.0012 -0.9999 -0.0519  0.0129  0.0865  0.0250  0.5021   \n",
       "192608  0.0223  0.0268 -0.9999  0.2703  0.0650  0.1681 -0.0076  0.4298   \n",
       "192609 -0.0057  0.0158 -0.9999  0.0402  0.0126  0.0833  0.0642 -0.0491   \n",
       "192610 -0.0046 -0.0368 -0.9999 -0.0331  0.0106 -0.0140 -0.0509  0.0537   \n",
       "192611  0.0675  0.0626 -0.9999  0.0729  0.0455  0.0000  0.0182 -0.0640   \n",
       "\n",
       "         Hshld   Clths  ...   Boxes   Trans   Whlsl   Rtail   Meals   Banks  \\\n",
       "192607 -0.0048  0.0808  ...  0.0770  0.0194 -0.2379  0.0007  0.0187  0.0461   \n",
       "192608 -0.0358 -0.0251  ... -0.0238  0.0488  0.0539 -0.0075 -0.0013  0.1183   \n",
       "192609  0.0073 -0.0051  ... -0.0554  0.0006 -0.0787  0.0025 -0.0056 -0.0175   \n",
       "192610 -0.0468  0.0012  ... -0.0508 -0.0264 -0.1538 -0.0220 -0.0411 -0.1182   \n",
       "192611 -0.0054  0.0187  ...  0.0384  0.0160  0.0467  0.0652  0.0433 -0.0297   \n",
       "\n",
       "         Insur   RlEst   Fin     Other  \n",
       "192607 -0.0054  0.0289 -0.0485  0.0520  \n",
       "192608  0.0257  0.0530 -0.0057  0.0676  \n",
       "192609  0.0072 -0.0306 -0.0314 -0.0386  \n",
       "192610 -0.0428 -0.0574  0.0207 -0.0849  \n",
       "192611  0.0358  0.0221  0.0492  0.0400  \n",
       "\n",
       "[5 rows x 49 columns]"
      ]
     },
     "execution_count": 82,
     "metadata": {},
     "output_type": "execute_result"
    }
   ],
   "source": [
    "ind.head()"
   ]
  },
  {
   "cell_type": "code",
   "execution_count": 83,
   "metadata": {},
   "outputs": [
    {
     "data": {
      "text/plain": [
       "Int64Index([192607, 192608, 192609, 192610, 192611, 192612, 192701, 192702,\n",
       "            192703, 192704,\n",
       "            ...\n",
       "            201803, 201804, 201805, 201806, 201807, 201808, 201809, 201810,\n",
       "            201811, 201812],\n",
       "           dtype='int64', length=1110)"
      ]
     },
     "execution_count": 83,
     "metadata": {},
     "output_type": "execute_result"
    }
   ],
   "source": [
    "ind.index"
   ]
  },
  {
   "cell_type": "code",
   "execution_count": 6,
   "metadata": {},
   "outputs": [],
   "source": [
    "ind.index = pd.to_datetime(ind.index, format=\"%Y%m\").to_period(\"M\")\n"
   ]
  },
  {
   "cell_type": "code",
   "execution_count": 7,
   "metadata": {},
   "outputs": [
    {
     "data": {
      "text/html": [
       "<div>\n",
       "<style scoped>\n",
       "    .dataframe tbody tr th:only-of-type {\n",
       "        vertical-align: middle;\n",
       "    }\n",
       "\n",
       "    .dataframe tbody tr th {\n",
       "        vertical-align: top;\n",
       "    }\n",
       "\n",
       "    .dataframe thead th {\n",
       "        text-align: right;\n",
       "    }\n",
       "</style>\n",
       "<table border=\"1\" class=\"dataframe\">\n",
       "  <thead>\n",
       "    <tr style=\"text-align: right;\">\n",
       "      <th></th>\n",
       "      <th>Agric</th>\n",
       "      <th>Food</th>\n",
       "      <th>Soda</th>\n",
       "      <th>Beer</th>\n",
       "      <th>Smoke</th>\n",
       "      <th>Toys</th>\n",
       "      <th>Fun</th>\n",
       "      <th>Books</th>\n",
       "      <th>Hshld</th>\n",
       "      <th>Clths</th>\n",
       "      <th>...</th>\n",
       "      <th>Boxes</th>\n",
       "      <th>Trans</th>\n",
       "      <th>Whlsl</th>\n",
       "      <th>Rtail</th>\n",
       "      <th>Meals</th>\n",
       "      <th>Banks</th>\n",
       "      <th>Insur</th>\n",
       "      <th>RlEst</th>\n",
       "      <th>Fin</th>\n",
       "      <th>Other</th>\n",
       "    </tr>\n",
       "  </thead>\n",
       "  <tbody>\n",
       "    <tr>\n",
       "      <th>1926-07</th>\n",
       "      <td>0.0237</td>\n",
       "      <td>0.0012</td>\n",
       "      <td>-0.9999</td>\n",
       "      <td>-0.0519</td>\n",
       "      <td>0.0129</td>\n",
       "      <td>0.0865</td>\n",
       "      <td>0.0250</td>\n",
       "      <td>0.5021</td>\n",
       "      <td>-0.0048</td>\n",
       "      <td>0.0808</td>\n",
       "      <td>...</td>\n",
       "      <td>0.0770</td>\n",
       "      <td>0.0194</td>\n",
       "      <td>-0.2379</td>\n",
       "      <td>0.0007</td>\n",
       "      <td>0.0187</td>\n",
       "      <td>0.0461</td>\n",
       "      <td>-0.0054</td>\n",
       "      <td>0.0289</td>\n",
       "      <td>-0.0485</td>\n",
       "      <td>0.0520</td>\n",
       "    </tr>\n",
       "    <tr>\n",
       "      <th>1926-08</th>\n",
       "      <td>0.0223</td>\n",
       "      <td>0.0268</td>\n",
       "      <td>-0.9999</td>\n",
       "      <td>0.2703</td>\n",
       "      <td>0.0650</td>\n",
       "      <td>0.1681</td>\n",
       "      <td>-0.0076</td>\n",
       "      <td>0.4298</td>\n",
       "      <td>-0.0358</td>\n",
       "      <td>-0.0251</td>\n",
       "      <td>...</td>\n",
       "      <td>-0.0238</td>\n",
       "      <td>0.0488</td>\n",
       "      <td>0.0539</td>\n",
       "      <td>-0.0075</td>\n",
       "      <td>-0.0013</td>\n",
       "      <td>0.1183</td>\n",
       "      <td>0.0257</td>\n",
       "      <td>0.0530</td>\n",
       "      <td>-0.0057</td>\n",
       "      <td>0.0676</td>\n",
       "    </tr>\n",
       "    <tr>\n",
       "      <th>1926-09</th>\n",
       "      <td>-0.0057</td>\n",
       "      <td>0.0158</td>\n",
       "      <td>-0.9999</td>\n",
       "      <td>0.0402</td>\n",
       "      <td>0.0126</td>\n",
       "      <td>0.0833</td>\n",
       "      <td>0.0642</td>\n",
       "      <td>-0.0491</td>\n",
       "      <td>0.0073</td>\n",
       "      <td>-0.0051</td>\n",
       "      <td>...</td>\n",
       "      <td>-0.0554</td>\n",
       "      <td>0.0006</td>\n",
       "      <td>-0.0787</td>\n",
       "      <td>0.0025</td>\n",
       "      <td>-0.0056</td>\n",
       "      <td>-0.0175</td>\n",
       "      <td>0.0072</td>\n",
       "      <td>-0.0306</td>\n",
       "      <td>-0.0314</td>\n",
       "      <td>-0.0386</td>\n",
       "    </tr>\n",
       "    <tr>\n",
       "      <th>1926-10</th>\n",
       "      <td>-0.0046</td>\n",
       "      <td>-0.0368</td>\n",
       "      <td>-0.9999</td>\n",
       "      <td>-0.0331</td>\n",
       "      <td>0.0106</td>\n",
       "      <td>-0.0140</td>\n",
       "      <td>-0.0509</td>\n",
       "      <td>0.0537</td>\n",
       "      <td>-0.0468</td>\n",
       "      <td>0.0012</td>\n",
       "      <td>...</td>\n",
       "      <td>-0.0508</td>\n",
       "      <td>-0.0264</td>\n",
       "      <td>-0.1538</td>\n",
       "      <td>-0.0220</td>\n",
       "      <td>-0.0411</td>\n",
       "      <td>-0.1182</td>\n",
       "      <td>-0.0428</td>\n",
       "      <td>-0.0574</td>\n",
       "      <td>0.0207</td>\n",
       "      <td>-0.0849</td>\n",
       "    </tr>\n",
       "    <tr>\n",
       "      <th>1926-11</th>\n",
       "      <td>0.0675</td>\n",
       "      <td>0.0626</td>\n",
       "      <td>-0.9999</td>\n",
       "      <td>0.0729</td>\n",
       "      <td>0.0455</td>\n",
       "      <td>0.0000</td>\n",
       "      <td>0.0182</td>\n",
       "      <td>-0.0640</td>\n",
       "      <td>-0.0054</td>\n",
       "      <td>0.0187</td>\n",
       "      <td>...</td>\n",
       "      <td>0.0384</td>\n",
       "      <td>0.0160</td>\n",
       "      <td>0.0467</td>\n",
       "      <td>0.0652</td>\n",
       "      <td>0.0433</td>\n",
       "      <td>-0.0297</td>\n",
       "      <td>0.0358</td>\n",
       "      <td>0.0221</td>\n",
       "      <td>0.0492</td>\n",
       "      <td>0.0400</td>\n",
       "    </tr>\n",
       "  </tbody>\n",
       "</table>\n",
       "<p>5 rows × 49 columns</p>\n",
       "</div>"
      ],
      "text/plain": [
       "          Agric   Food    Soda    Beer    Smoke   Toys    Fun     Books  \\\n",
       "1926-07  0.0237  0.0012 -0.9999 -0.0519  0.0129  0.0865  0.0250  0.5021   \n",
       "1926-08  0.0223  0.0268 -0.9999  0.2703  0.0650  0.1681 -0.0076  0.4298   \n",
       "1926-09 -0.0057  0.0158 -0.9999  0.0402  0.0126  0.0833  0.0642 -0.0491   \n",
       "1926-10 -0.0046 -0.0368 -0.9999 -0.0331  0.0106 -0.0140 -0.0509  0.0537   \n",
       "1926-11  0.0675  0.0626 -0.9999  0.0729  0.0455  0.0000  0.0182 -0.0640   \n",
       "\n",
       "          Hshld   Clths  ...   Boxes   Trans   Whlsl   Rtail   Meals   Banks  \\\n",
       "1926-07 -0.0048  0.0808  ...  0.0770  0.0194 -0.2379  0.0007  0.0187  0.0461   \n",
       "1926-08 -0.0358 -0.0251  ... -0.0238  0.0488  0.0539 -0.0075 -0.0013  0.1183   \n",
       "1926-09  0.0073 -0.0051  ... -0.0554  0.0006 -0.0787  0.0025 -0.0056 -0.0175   \n",
       "1926-10 -0.0468  0.0012  ... -0.0508 -0.0264 -0.1538 -0.0220 -0.0411 -0.1182   \n",
       "1926-11 -0.0054  0.0187  ...  0.0384  0.0160  0.0467  0.0652  0.0433 -0.0297   \n",
       "\n",
       "          Insur   RlEst   Fin     Other  \n",
       "1926-07 -0.0054  0.0289 -0.0485  0.0520  \n",
       "1926-08  0.0257  0.0530 -0.0057  0.0676  \n",
       "1926-09  0.0072 -0.0306 -0.0314 -0.0386  \n",
       "1926-10 -0.0428 -0.0574  0.0207 -0.0849  \n",
       "1926-11  0.0358  0.0221  0.0492  0.0400  \n",
       "\n",
       "[5 rows x 49 columns]"
      ]
     },
     "execution_count": 7,
     "metadata": {},
     "output_type": "execute_result"
    }
   ],
   "source": [
    "ind.head()"
   ]
  },
  {
   "cell_type": "code",
   "execution_count": 8,
   "metadata": {},
   "outputs": [
    {
     "data": {
      "text/plain": [
       "Index(['Agric', 'Food ', 'Soda ', 'Beer ', 'Smoke', 'Toys ', 'Fun  ', 'Books',\n",
       "       'Hshld', 'Clths', 'Hlth ', 'MedEq', 'Drugs', 'Chems', 'Rubbr', 'Txtls',\n",
       "       'BldMt', 'Cnstr', 'Steel', 'FabPr', 'Mach ', 'ElcEq', 'Autos', 'Aero ',\n",
       "       'Ships', 'Guns ', 'Gold ', 'Mines', 'Coal ', 'Oil  ', 'Util ', 'Telcm',\n",
       "       'PerSv', 'BusSv', 'Hardw', 'Softw', 'Chips', 'LabEq', 'Paper', 'Boxes',\n",
       "       'Trans', 'Whlsl', 'Rtail', 'Meals', 'Banks', 'Insur', 'RlEst', 'Fin  ',\n",
       "       'Other'],\n",
       "      dtype='object')"
      ]
     },
     "execution_count": 8,
     "metadata": {},
     "output_type": "execute_result"
    }
   ],
   "source": [
    "ind.columns"
   ]
  },
  {
   "cell_type": "code",
   "execution_count": 9,
   "metadata": {},
   "outputs": [
    {
     "data": {
      "text/plain": [
       "Index(['Agric', 'Food', 'Soda', 'Beer', 'Smoke', 'Toys', 'Fun', 'Books',\n",
       "       'Hshld', 'Clths', 'Hlth', 'MedEq', 'Drugs', 'Chems', 'Rubbr', 'Txtls',\n",
       "       'BldMt', 'Cnstr', 'Steel', 'FabPr', 'Mach', 'ElcEq', 'Autos', 'Aero',\n",
       "       'Ships', 'Guns', 'Gold', 'Mines', 'Coal', 'Oil', 'Util', 'Telcm',\n",
       "       'PerSv', 'BusSv', 'Hardw', 'Softw', 'Chips', 'LabEq', 'Paper', 'Boxes',\n",
       "       'Trans', 'Whlsl', 'Rtail', 'Meals', 'Banks', 'Insur', 'RlEst', 'Fin',\n",
       "       'Other'],\n",
       "      dtype='object')"
      ]
     },
     "execution_count": 9,
     "metadata": {},
     "output_type": "execute_result"
    }
   ],
   "source": [
    "# Fixing the columns's name.\n",
    "'''\n",
    "Delete spaces in \n",
    "'''\n",
    "ind.columns = ind.columns.str.strip()\n",
    "ind.columns"
   ]
  },
  {
   "cell_type": "code",
   "execution_count": 10,
   "metadata": {},
   "outputs": [],
   "source": [
    "%load_ext autoreload\n",
    "%autoreload 2\n",
    "%matplotlib inline"
   ]
  },
  {
   "cell_type": "code",
   "execution_count": 11,
   "metadata": {},
   "outputs": [],
   "source": [
    "import edhec_risk_kit as erk"
   ]
  },
  {
   "cell_type": "code",
   "execution_count": 12,
   "metadata": {},
   "outputs": [],
   "source": [
    "ind = erk.get_ind_returns()"
   ]
  },
  {
   "cell_type": "code",
   "execution_count": 13,
   "metadata": {},
   "outputs": [
    {
     "data": {
      "text/html": [
       "<div>\n",
       "<style scoped>\n",
       "    .dataframe tbody tr th:only-of-type {\n",
       "        vertical-align: middle;\n",
       "    }\n",
       "\n",
       "    .dataframe tbody tr th {\n",
       "        vertical-align: top;\n",
       "    }\n",
       "\n",
       "    .dataframe thead th {\n",
       "        text-align: right;\n",
       "    }\n",
       "</style>\n",
       "<table border=\"1\" class=\"dataframe\">\n",
       "  <thead>\n",
       "    <tr style=\"text-align: right;\">\n",
       "      <th></th>\n",
       "      <th>Agric</th>\n",
       "      <th>Food</th>\n",
       "      <th>Soda</th>\n",
       "      <th>Beer</th>\n",
       "      <th>Smoke</th>\n",
       "      <th>Toys</th>\n",
       "      <th>Fun</th>\n",
       "      <th>Books</th>\n",
       "      <th>Hshld</th>\n",
       "      <th>Clths</th>\n",
       "      <th>...</th>\n",
       "      <th>Boxes</th>\n",
       "      <th>Trans</th>\n",
       "      <th>Whlsl</th>\n",
       "      <th>Rtail</th>\n",
       "      <th>Meals</th>\n",
       "      <th>Banks</th>\n",
       "      <th>Insur</th>\n",
       "      <th>RlEst</th>\n",
       "      <th>Fin</th>\n",
       "      <th>Other</th>\n",
       "    </tr>\n",
       "  </thead>\n",
       "  <tbody>\n",
       "    <tr>\n",
       "      <th>1926-07</th>\n",
       "      <td>0.0237</td>\n",
       "      <td>0.0012</td>\n",
       "      <td>-0.9999</td>\n",
       "      <td>-0.0519</td>\n",
       "      <td>0.0129</td>\n",
       "      <td>0.0865</td>\n",
       "      <td>0.0250</td>\n",
       "      <td>0.5021</td>\n",
       "      <td>-0.0048</td>\n",
       "      <td>0.0808</td>\n",
       "      <td>...</td>\n",
       "      <td>0.0770</td>\n",
       "      <td>0.0194</td>\n",
       "      <td>-0.2379</td>\n",
       "      <td>0.0007</td>\n",
       "      <td>0.0187</td>\n",
       "      <td>0.0461</td>\n",
       "      <td>-0.0054</td>\n",
       "      <td>0.0289</td>\n",
       "      <td>-0.0485</td>\n",
       "      <td>0.0520</td>\n",
       "    </tr>\n",
       "    <tr>\n",
       "      <th>1926-08</th>\n",
       "      <td>0.0223</td>\n",
       "      <td>0.0268</td>\n",
       "      <td>-0.9999</td>\n",
       "      <td>0.2703</td>\n",
       "      <td>0.0650</td>\n",
       "      <td>0.1681</td>\n",
       "      <td>-0.0076</td>\n",
       "      <td>0.4298</td>\n",
       "      <td>-0.0358</td>\n",
       "      <td>-0.0251</td>\n",
       "      <td>...</td>\n",
       "      <td>-0.0238</td>\n",
       "      <td>0.0488</td>\n",
       "      <td>0.0539</td>\n",
       "      <td>-0.0075</td>\n",
       "      <td>-0.0013</td>\n",
       "      <td>0.1183</td>\n",
       "      <td>0.0257</td>\n",
       "      <td>0.0530</td>\n",
       "      <td>-0.0057</td>\n",
       "      <td>0.0676</td>\n",
       "    </tr>\n",
       "    <tr>\n",
       "      <th>1926-09</th>\n",
       "      <td>-0.0057</td>\n",
       "      <td>0.0158</td>\n",
       "      <td>-0.9999</td>\n",
       "      <td>0.0402</td>\n",
       "      <td>0.0126</td>\n",
       "      <td>0.0833</td>\n",
       "      <td>0.0642</td>\n",
       "      <td>-0.0491</td>\n",
       "      <td>0.0073</td>\n",
       "      <td>-0.0051</td>\n",
       "      <td>...</td>\n",
       "      <td>-0.0554</td>\n",
       "      <td>0.0006</td>\n",
       "      <td>-0.0787</td>\n",
       "      <td>0.0025</td>\n",
       "      <td>-0.0056</td>\n",
       "      <td>-0.0175</td>\n",
       "      <td>0.0072</td>\n",
       "      <td>-0.0306</td>\n",
       "      <td>-0.0314</td>\n",
       "      <td>-0.0386</td>\n",
       "    </tr>\n",
       "    <tr>\n",
       "      <th>1926-10</th>\n",
       "      <td>-0.0046</td>\n",
       "      <td>-0.0368</td>\n",
       "      <td>-0.9999</td>\n",
       "      <td>-0.0331</td>\n",
       "      <td>0.0106</td>\n",
       "      <td>-0.0140</td>\n",
       "      <td>-0.0509</td>\n",
       "      <td>0.0537</td>\n",
       "      <td>-0.0468</td>\n",
       "      <td>0.0012</td>\n",
       "      <td>...</td>\n",
       "      <td>-0.0508</td>\n",
       "      <td>-0.0264</td>\n",
       "      <td>-0.1538</td>\n",
       "      <td>-0.0220</td>\n",
       "      <td>-0.0411</td>\n",
       "      <td>-0.1182</td>\n",
       "      <td>-0.0428</td>\n",
       "      <td>-0.0574</td>\n",
       "      <td>0.0207</td>\n",
       "      <td>-0.0849</td>\n",
       "    </tr>\n",
       "    <tr>\n",
       "      <th>1926-11</th>\n",
       "      <td>0.0675</td>\n",
       "      <td>0.0626</td>\n",
       "      <td>-0.9999</td>\n",
       "      <td>0.0729</td>\n",
       "      <td>0.0455</td>\n",
       "      <td>0.0000</td>\n",
       "      <td>0.0182</td>\n",
       "      <td>-0.0640</td>\n",
       "      <td>-0.0054</td>\n",
       "      <td>0.0187</td>\n",
       "      <td>...</td>\n",
       "      <td>0.0384</td>\n",
       "      <td>0.0160</td>\n",
       "      <td>0.0467</td>\n",
       "      <td>0.0652</td>\n",
       "      <td>0.0433</td>\n",
       "      <td>-0.0297</td>\n",
       "      <td>0.0358</td>\n",
       "      <td>0.0221</td>\n",
       "      <td>0.0492</td>\n",
       "      <td>0.0400</td>\n",
       "    </tr>\n",
       "  </tbody>\n",
       "</table>\n",
       "<p>5 rows × 49 columns</p>\n",
       "</div>"
      ],
      "text/plain": [
       "          Agric    Food    Soda    Beer   Smoke    Toys     Fun   Books  \\\n",
       "1926-07  0.0237  0.0012 -0.9999 -0.0519  0.0129  0.0865  0.0250  0.5021   \n",
       "1926-08  0.0223  0.0268 -0.9999  0.2703  0.0650  0.1681 -0.0076  0.4298   \n",
       "1926-09 -0.0057  0.0158 -0.9999  0.0402  0.0126  0.0833  0.0642 -0.0491   \n",
       "1926-10 -0.0046 -0.0368 -0.9999 -0.0331  0.0106 -0.0140 -0.0509  0.0537   \n",
       "1926-11  0.0675  0.0626 -0.9999  0.0729  0.0455  0.0000  0.0182 -0.0640   \n",
       "\n",
       "          Hshld   Clths  ...   Boxes   Trans   Whlsl   Rtail   Meals   Banks  \\\n",
       "1926-07 -0.0048  0.0808  ...  0.0770  0.0194 -0.2379  0.0007  0.0187  0.0461   \n",
       "1926-08 -0.0358 -0.0251  ... -0.0238  0.0488  0.0539 -0.0075 -0.0013  0.1183   \n",
       "1926-09  0.0073 -0.0051  ... -0.0554  0.0006 -0.0787  0.0025 -0.0056 -0.0175   \n",
       "1926-10 -0.0468  0.0012  ... -0.0508 -0.0264 -0.1538 -0.0220 -0.0411 -0.1182   \n",
       "1926-11 -0.0054  0.0187  ...  0.0384  0.0160  0.0467  0.0652  0.0433 -0.0297   \n",
       "\n",
       "          Insur   RlEst     Fin   Other  \n",
       "1926-07 -0.0054  0.0289 -0.0485  0.0520  \n",
       "1926-08  0.0257  0.0530 -0.0057  0.0676  \n",
       "1926-09  0.0072 -0.0306 -0.0314 -0.0386  \n",
       "1926-10 -0.0428 -0.0574  0.0207 -0.0849  \n",
       "1926-11  0.0358  0.0221  0.0492  0.0400  \n",
       "\n",
       "[5 rows x 49 columns]"
      ]
     },
     "execution_count": 13,
     "metadata": {},
     "output_type": "execute_result"
    }
   ],
   "source": [
    "ind.head()"
   ]
  },
  {
   "cell_type": "markdown",
   "metadata": {},
   "source": [
    "# Drawdown"
   ]
  },
  {
   "cell_type": "code",
   "execution_count": 14,
   "metadata": {},
   "outputs": [
    {
     "data": {
      "text/html": [
       "<div>\n",
       "<style scoped>\n",
       "    .dataframe tbody tr th:only-of-type {\n",
       "        vertical-align: middle;\n",
       "    }\n",
       "\n",
       "    .dataframe tbody tr th {\n",
       "        vertical-align: top;\n",
       "    }\n",
       "\n",
       "    .dataframe thead th {\n",
       "        text-align: right;\n",
       "    }\n",
       "</style>\n",
       "<table border=\"1\" class=\"dataframe\">\n",
       "  <thead>\n",
       "    <tr style=\"text-align: right;\">\n",
       "      <th></th>\n",
       "      <th>Wealth</th>\n",
       "      <th>Peaks</th>\n",
       "      <th>Drawdown</th>\n",
       "    </tr>\n",
       "  </thead>\n",
       "  <tbody>\n",
       "    <tr>\n",
       "      <th>1926-07</th>\n",
       "      <td>1086.500000</td>\n",
       "      <td>1086.500000</td>\n",
       "      <td>0.000000</td>\n",
       "    </tr>\n",
       "    <tr>\n",
       "      <th>1926-08</th>\n",
       "      <td>1269.140650</td>\n",
       "      <td>1269.140650</td>\n",
       "      <td>0.000000</td>\n",
       "    </tr>\n",
       "    <tr>\n",
       "      <th>1926-09</th>\n",
       "      <td>1374.860066</td>\n",
       "      <td>1374.860066</td>\n",
       "      <td>0.000000</td>\n",
       "    </tr>\n",
       "    <tr>\n",
       "      <th>1926-10</th>\n",
       "      <td>1355.612025</td>\n",
       "      <td>1374.860066</td>\n",
       "      <td>-0.014000</td>\n",
       "    </tr>\n",
       "    <tr>\n",
       "      <th>1926-11</th>\n",
       "      <td>1355.612025</td>\n",
       "      <td>1374.860066</td>\n",
       "      <td>-0.014000</td>\n",
       "    </tr>\n",
       "    <tr>\n",
       "      <th>...</th>\n",
       "      <td>...</td>\n",
       "      <td>...</td>\n",
       "      <td>...</td>\n",
       "    </tr>\n",
       "    <tr>\n",
       "      <th>2018-08</th>\n",
       "      <td>488639.798472</td>\n",
       "      <td>493880.378053</td>\n",
       "      <td>-0.010611</td>\n",
       "    </tr>\n",
       "    <tr>\n",
       "      <th>2018-09</th>\n",
       "      <td>523675.272023</td>\n",
       "      <td>523675.272023</td>\n",
       "      <td>0.000000</td>\n",
       "    </tr>\n",
       "    <tr>\n",
       "      <th>2018-10</th>\n",
       "      <td>444914.511110</td>\n",
       "      <td>523675.272023</td>\n",
       "      <td>-0.150400</td>\n",
       "    </tr>\n",
       "    <tr>\n",
       "      <th>2018-11</th>\n",
       "      <td>413103.123566</td>\n",
       "      <td>523675.272023</td>\n",
       "      <td>-0.211146</td>\n",
       "    </tr>\n",
       "    <tr>\n",
       "      <th>2018-12</th>\n",
       "      <td>345560.762863</td>\n",
       "      <td>523675.272023</td>\n",
       "      <td>-0.340124</td>\n",
       "    </tr>\n",
       "  </tbody>\n",
       "</table>\n",
       "<p>1110 rows × 3 columns</p>\n",
       "</div>"
      ],
      "text/plain": [
       "                Wealth          Peaks  Drawdown\n",
       "1926-07    1086.500000    1086.500000  0.000000\n",
       "1926-08    1269.140650    1269.140650  0.000000\n",
       "1926-09    1374.860066    1374.860066  0.000000\n",
       "1926-10    1355.612025    1374.860066 -0.014000\n",
       "1926-11    1355.612025    1374.860066 -0.014000\n",
       "...                ...            ...       ...\n",
       "2018-08  488639.798472  493880.378053 -0.010611\n",
       "2018-09  523675.272023  523675.272023  0.000000\n",
       "2018-10  444914.511110  523675.272023 -0.150400\n",
       "2018-11  413103.123566  523675.272023 -0.211146\n",
       "2018-12  345560.762863  523675.272023 -0.340124\n",
       "\n",
       "[1110 rows x 3 columns]"
      ]
     },
     "execution_count": 14,
     "metadata": {},
     "output_type": "execute_result"
    }
   ],
   "source": [
    "erk.drawdown(ind[\"Toys\"])"
   ]
  },
  {
   "cell_type": "code",
   "execution_count": 15,
   "metadata": {},
   "outputs": [
    {
     "data": {
      "text/plain": [
       "<AxesSubplot: >"
      ]
     },
     "execution_count": 15,
     "metadata": {},
     "output_type": "execute_result"
    },
    {
     "data": {
      "image/png": "[encoded data removed]",
      "text/plain": [
       "<Figure size 1200x600 with 1 Axes>"
      ]
     },
     "metadata": {},
     "output_type": "display_data"
    }
   ],
   "source": [
    "erk.drawdown(ind[\"Food\"])[\"Drawdown\"].plot.line(figsize=(12,6))"
   ]
  },
  {
   "cell_type": "code",
   "execution_count": 16,
   "metadata": {},
   "outputs": [
    {
     "data": {
      "text/plain": [
       "Food     0.062690\n",
       "Smoke    0.080292\n",
       "Coal     0.047359\n",
       "Beer     0.033881\n",
       "Fin      0.089623\n",
       "dtype: float64"
      ]
     },
     "execution_count": 16,
     "metadata": {},
     "output_type": "execute_result"
    }
   ],
   "source": [
    "erk.VaR_gaussian(ind[[\"Food\",\"Smoke\",\"Coal\", \"Beer\",\"Fin\"]], modified=True)"
   ]
  },
  {
   "cell_type": "code",
   "execution_count": 17,
   "metadata": {},
   "outputs": [
    {
     "data": {
      "text/plain": [
       "0.06471850278623081"
      ]
     },
     "execution_count": 17,
     "metadata": {},
     "output_type": "execute_result"
    }
   ],
   "source": [
    "erk.VaR_gaussian(ind[\"Telcm\"],modified=True)"
   ]
  },
  {
   "cell_type": "code",
   "execution_count": 18,
   "metadata": {},
   "outputs": [
    {
     "data": {
      "text/plain": [
       "<AxesSubplot: >"
      ]
     },
     "execution_count": 18,
     "metadata": {},
     "output_type": "execute_result"
    },
    {
     "data": {
      "image/png": "[encoded data removed]",
      "text/plain": [
       "<Figure size 640x480 with 1 Axes>"
      ]
     },
     "metadata": {},
     "output_type": "display_data"
    }
   ],
   "source": [
    "erk.VaR_gaussian(ind, modified=True).sort_values()[:25].plot.bar()"
   ]
  },
  {
   "cell_type": "code",
   "execution_count": 19,
   "metadata": {},
   "outputs": [
    {
     "data": {
      "text/plain": [
       "<AxesSubplot: title={'center': 'Industry Sharpe Ratios 2000-2018'}>"
      ]
     },
     "execution_count": 19,
     "metadata": {},
     "output_type": "execute_result"
    },
    {
     "data": {
      "image/png": "[encoded data removed]",
      "text/plain": [
       "<Figure size 1200x500 with 1 Axes>"
      ]
     },
     "metadata": {},
     "output_type": "display_data"
    }
   ],
   "source": [
    "erk.sharpe_ratio(ind[\"2000\":], 0.03, 12).sort_values().plot.bar(title = \"Industry Sharpe Ratios 2000-2018\",figsize=(12,5), color = \"green\")"
   ]
  },
  {
   "cell_type": "markdown",
   "metadata": {},
   "source": [
    "negativ sharpe ratio is not good, Returns are lower than the Risk free rate"
   ]
  },
  {
   "cell_type": "markdown",
   "metadata": {},
   "source": [
    "# compute the efficient frontier\n",
    "Need:\n",
    "- A set of expected Returns\n",
    "- The mean in covariance matrix"
   ]
  },
  {
   "cell_type": "code",
   "execution_count": 26,
   "metadata": {},
   "outputs": [],
   "source": [
    "# Expected Returns\n",
    "# what was the efficient frontier over the period?\n",
    "expected_r = erk.annualize_returns(ind[\"1995\":\"2000\"],12)"
   ]
  },
  {
   "cell_type": "code",
   "execution_count": 27,
   "metadata": {},
   "outputs": [
    {
     "data": {
      "text/plain": [
       "<AxesSubplot: >"
      ]
     },
     "execution_count": 27,
     "metadata": {},
     "output_type": "execute_result"
    },
    {
     "data": {
      "image/png": "[encoded data removed]",
      "text/plain": [
       "<Figure size 640x480 with 1 Axes>"
      ]
     },
     "metadata": {},
     "output_type": "display_data"
    }
   ],
   "source": [
    "expected_r.sort_values().plot.bar()"
   ]
  },
  {
   "cell_type": "code",
   "execution_count": 30,
   "metadata": {},
   "outputs": [
    {
     "data": {
      "text/plain": [
       "(49, 49)"
      ]
     },
     "execution_count": 30,
     "metadata": {},
     "output_type": "execute_result"
    }
   ],
   "source": [
    "# Generate the Covariance Matrix\n",
    "cov = ind[\"1995\":\"2000\"].cov()\n",
    "cov.shape"
   ]
  },
  {
   "cell_type": "code",
   "execution_count": 32,
   "metadata": {},
   "outputs": [
    {
     "data": {
      "text/html": [
       "<div>\n",
       "<style scoped>\n",
       "    .dataframe tbody tr th:only-of-type {\n",
       "        vertical-align: middle;\n",
       "    }\n",
       "\n",
       "    .dataframe tbody tr th {\n",
       "        vertical-align: top;\n",
       "    }\n",
       "\n",
       "    .dataframe thead th {\n",
       "        text-align: right;\n",
       "    }\n",
       "</style>\n",
       "<table border=\"1\" class=\"dataframe\">\n",
       "  <thead>\n",
       "    <tr style=\"text-align: right;\">\n",
       "      <th></th>\n",
       "      <th>Agric</th>\n",
       "      <th>Food</th>\n",
       "      <th>Soda</th>\n",
       "      <th>Beer</th>\n",
       "      <th>Smoke</th>\n",
       "      <th>Toys</th>\n",
       "      <th>Fun</th>\n",
       "      <th>Books</th>\n",
       "      <th>Hshld</th>\n",
       "      <th>Clths</th>\n",
       "      <th>...</th>\n",
       "      <th>Boxes</th>\n",
       "      <th>Trans</th>\n",
       "      <th>Whlsl</th>\n",
       "      <th>Rtail</th>\n",
       "      <th>Meals</th>\n",
       "      <th>Banks</th>\n",
       "      <th>Insur</th>\n",
       "      <th>RlEst</th>\n",
       "      <th>Fin</th>\n",
       "      <th>Other</th>\n",
       "    </tr>\n",
       "  </thead>\n",
       "  <tbody>\n",
       "    <tr>\n",
       "      <th>Agric</th>\n",
       "      <td>0.004342</td>\n",
       "      <td>0.000563</td>\n",
       "      <td>0.000228</td>\n",
       "      <td>0.000189</td>\n",
       "      <td>0.000056</td>\n",
       "      <td>0.001020</td>\n",
       "      <td>0.000419</td>\n",
       "      <td>0.001011</td>\n",
       "      <td>0.000429</td>\n",
       "      <td>0.001161</td>\n",
       "      <td>...</td>\n",
       "      <td>0.001401</td>\n",
       "      <td>0.000700</td>\n",
       "      <td>0.000598</td>\n",
       "      <td>0.001081</td>\n",
       "      <td>0.000603</td>\n",
       "      <td>0.000968</td>\n",
       "      <td>0.000791</td>\n",
       "      <td>0.001152</td>\n",
       "      <td>0.001874</td>\n",
       "      <td>0.000666</td>\n",
       "    </tr>\n",
       "    <tr>\n",
       "      <th>Food</th>\n",
       "      <td>0.000563</td>\n",
       "      <td>0.002504</td>\n",
       "      <td>0.001705</td>\n",
       "      <td>0.002044</td>\n",
       "      <td>0.001891</td>\n",
       "      <td>0.001150</td>\n",
       "      <td>0.000639</td>\n",
       "      <td>0.000831</td>\n",
       "      <td>0.001137</td>\n",
       "      <td>0.001453</td>\n",
       "      <td>...</td>\n",
       "      <td>0.001493</td>\n",
       "      <td>0.001267</td>\n",
       "      <td>0.000601</td>\n",
       "      <td>0.001170</td>\n",
       "      <td>0.001081</td>\n",
       "      <td>0.001981</td>\n",
       "      <td>0.002017</td>\n",
       "      <td>0.000688</td>\n",
       "      <td>0.001092</td>\n",
       "      <td>0.000982</td>\n",
       "    </tr>\n",
       "    <tr>\n",
       "      <th>Soda</th>\n",
       "      <td>0.000228</td>\n",
       "      <td>0.001705</td>\n",
       "      <td>0.008989</td>\n",
       "      <td>0.003672</td>\n",
       "      <td>0.001277</td>\n",
       "      <td>0.001532</td>\n",
       "      <td>0.001077</td>\n",
       "      <td>0.001459</td>\n",
       "      <td>0.002666</td>\n",
       "      <td>0.002153</td>\n",
       "      <td>...</td>\n",
       "      <td>0.002345</td>\n",
       "      <td>0.002550</td>\n",
       "      <td>0.001447</td>\n",
       "      <td>0.001309</td>\n",
       "      <td>0.001542</td>\n",
       "      <td>0.002926</td>\n",
       "      <td>0.002413</td>\n",
       "      <td>0.001887</td>\n",
       "      <td>0.002437</td>\n",
       "      <td>0.001977</td>\n",
       "    </tr>\n",
       "    <tr>\n",
       "      <th>Beer</th>\n",
       "      <td>0.000189</td>\n",
       "      <td>0.002044</td>\n",
       "      <td>0.003672</td>\n",
       "      <td>0.004599</td>\n",
       "      <td>0.001143</td>\n",
       "      <td>0.001564</td>\n",
       "      <td>0.001113</td>\n",
       "      <td>0.000755</td>\n",
       "      <td>0.002447</td>\n",
       "      <td>0.001415</td>\n",
       "      <td>...</td>\n",
       "      <td>0.001603</td>\n",
       "      <td>0.001975</td>\n",
       "      <td>0.000609</td>\n",
       "      <td>0.001442</td>\n",
       "      <td>0.001634</td>\n",
       "      <td>0.002398</td>\n",
       "      <td>0.002379</td>\n",
       "      <td>0.000996</td>\n",
       "      <td>0.001767</td>\n",
       "      <td>0.001533</td>\n",
       "    </tr>\n",
       "    <tr>\n",
       "      <th>Smoke</th>\n",
       "      <td>0.000056</td>\n",
       "      <td>0.001891</td>\n",
       "      <td>0.001277</td>\n",
       "      <td>0.001143</td>\n",
       "      <td>0.007130</td>\n",
       "      <td>0.001417</td>\n",
       "      <td>0.000201</td>\n",
       "      <td>-0.000183</td>\n",
       "      <td>0.000981</td>\n",
       "      <td>0.000761</td>\n",
       "      <td>...</td>\n",
       "      <td>0.001631</td>\n",
       "      <td>0.000244</td>\n",
       "      <td>0.001363</td>\n",
       "      <td>0.000069</td>\n",
       "      <td>0.000590</td>\n",
       "      <td>0.001207</td>\n",
       "      <td>0.001255</td>\n",
       "      <td>0.000467</td>\n",
       "      <td>0.000550</td>\n",
       "      <td>0.001101</td>\n",
       "    </tr>\n",
       "  </tbody>\n",
       "</table>\n",
       "<p>5 rows × 49 columns</p>\n",
       "</div>"
      ],
      "text/plain": [
       "          Agric      Food      Soda      Beer     Smoke      Toys       Fun  \\\n",
       "Agric  0.004342  0.000563  0.000228  0.000189  0.000056  0.001020  0.000419   \n",
       "Food   0.000563  0.002504  0.001705  0.002044  0.001891  0.001150  0.000639   \n",
       "Soda   0.000228  0.001705  0.008989  0.003672  0.001277  0.001532  0.001077   \n",
       "Beer   0.000189  0.002044  0.003672  0.004599  0.001143  0.001564  0.001113   \n",
       "Smoke  0.000056  0.001891  0.001277  0.001143  0.007130  0.001417  0.000201   \n",
       "\n",
       "          Books     Hshld     Clths  ...     Boxes     Trans     Whlsl  \\\n",
       "Agric  0.001011  0.000429  0.001161  ...  0.001401  0.000700  0.000598   \n",
       "Food   0.000831  0.001137  0.001453  ...  0.001493  0.001267  0.000601   \n",
       "Soda   0.001459  0.002666  0.002153  ...  0.002345  0.002550  0.001447   \n",
       "Beer   0.000755  0.002447  0.001415  ...  0.001603  0.001975  0.000609   \n",
       "Smoke -0.000183  0.000981  0.000761  ...  0.001631  0.000244  0.001363   \n",
       "\n",
       "          Rtail     Meals     Banks     Insur     RlEst       Fin     Other  \n",
       "Agric  0.001081  0.000603  0.000968  0.000791  0.001152  0.001874  0.000666  \n",
       "Food   0.001170  0.001081  0.001981  0.002017  0.000688  0.001092  0.000982  \n",
       "Soda   0.001309  0.001542  0.002926  0.002413  0.001887  0.002437  0.001977  \n",
       "Beer   0.001442  0.001634  0.002398  0.002379  0.000996  0.001767  0.001533  \n",
       "Smoke  0.000069  0.000590  0.001207  0.001255  0.000467  0.000550  0.001101  \n",
       "\n",
       "[5 rows x 49 columns]"
      ]
     },
     "execution_count": 32,
     "metadata": {},
     "output_type": "execute_result"
    }
   ],
   "source": [
    "cov.head()"
   ]
  },
  {
   "cell_type": "markdown",
   "metadata": {},
   "source": [
    "# $R_p = w^T.R$"
   ]
  },
  {
   "cell_type": "code",
   "execution_count": 35,
   "metadata": {},
   "outputs": [],
   "source": [
    "def portfolio_return(weights, returns):\n",
    "    \"\"\"\n",
    "    Weights -> Returns\n",
    "    \"\"\"\n",
    "    return weights.T @ returns"
   ]
  },
  {
   "cell_type": "markdown",
   "metadata": {},
   "source": [
    "#  $Vol = \\sigma = \\sqrt{w^T.\\Sigma.w}$"
   ]
  },
  {
   "cell_type": "code",
   "execution_count": 36,
   "metadata": {},
   "outputs": [],
   "source": [
    "def portfolio_vol(weights, covmat):\n",
    "    \"\"\"\n",
    "    weights -> vol\n",
    "    \"\"\"\n",
    "    \n",
    "    return (weights.T @ covmat @ weights)**0.5"
   ]
  },
  {
   "cell_type": "code",
   "execution_count": 38,
   "metadata": {},
   "outputs": [
    {
     "data": {
      "text/plain": [
       "Food     0.154100\n",
       "Beer     0.190134\n",
       "Smoke    0.129288\n",
       "Coal     0.343089\n",
       "dtype: float64"
      ]
     },
     "execution_count": 38,
     "metadata": {},
     "output_type": "execute_result"
    }
   ],
   "source": [
    "l =[\"Food\", \"Beer\", \"Smoke\", \"Coal\"]\n",
    "expected_r[l]"
   ]
  },
  {
   "cell_type": "code",
   "execution_count": 39,
   "metadata": {},
   "outputs": [
    {
     "data": {
      "text/html": [
       "<div>\n",
       "<style scoped>\n",
       "    .dataframe tbody tr th:only-of-type {\n",
       "        vertical-align: middle;\n",
       "    }\n",
       "\n",
       "    .dataframe tbody tr th {\n",
       "        vertical-align: top;\n",
       "    }\n",
       "\n",
       "    .dataframe thead th {\n",
       "        text-align: right;\n",
       "    }\n",
       "</style>\n",
       "<table border=\"1\" class=\"dataframe\">\n",
       "  <thead>\n",
       "    <tr style=\"text-align: right;\">\n",
       "      <th></th>\n",
       "      <th>Food</th>\n",
       "      <th>Beer</th>\n",
       "      <th>Smoke</th>\n",
       "      <th>Coal</th>\n",
       "    </tr>\n",
       "  </thead>\n",
       "  <tbody>\n",
       "    <tr>\n",
       "      <th>Food</th>\n",
       "      <td>0.002504</td>\n",
       "      <td>0.002044</td>\n",
       "      <td>0.001891</td>\n",
       "      <td>-0.000265</td>\n",
       "    </tr>\n",
       "    <tr>\n",
       "      <th>Beer</th>\n",
       "      <td>0.002044</td>\n",
       "      <td>0.004599</td>\n",
       "      <td>0.001143</td>\n",
       "      <td>0.001261</td>\n",
       "    </tr>\n",
       "    <tr>\n",
       "      <th>Smoke</th>\n",
       "      <td>0.001891</td>\n",
       "      <td>0.001143</td>\n",
       "      <td>0.007130</td>\n",
       "      <td>-0.000544</td>\n",
       "    </tr>\n",
       "    <tr>\n",
       "      <th>Coal</th>\n",
       "      <td>-0.000265</td>\n",
       "      <td>0.001261</td>\n",
       "      <td>-0.000544</td>\n",
       "      <td>0.016153</td>\n",
       "    </tr>\n",
       "  </tbody>\n",
       "</table>\n",
       "</div>"
      ],
      "text/plain": [
       "           Food      Beer     Smoke      Coal\n",
       "Food   0.002504  0.002044  0.001891 -0.000265\n",
       "Beer   0.002044  0.004599  0.001143  0.001261\n",
       "Smoke  0.001891  0.001143  0.007130 -0.000544\n",
       "Coal  -0.000265  0.001261 -0.000544  0.016153"
      ]
     },
     "execution_count": 39,
     "metadata": {},
     "output_type": "execute_result"
    }
   ],
   "source": [
    "cov.loc[l, l]"
   ]
  },
  {
   "cell_type": "code",
   "execution_count": 42,
   "metadata": {},
   "outputs": [
    {
     "data": {
      "text/plain": [
       "array([0.25, 0.25, 0.25, 0.25])"
      ]
     },
     "execution_count": 42,
     "metadata": {},
     "output_type": "execute_result"
    }
   ],
   "source": [
    "weights = np.repeat(1/4, 4)\n",
    "weights"
   ]
  },
  {
   "cell_type": "code",
   "execution_count": 43,
   "metadata": {},
   "outputs": [
    {
     "data": {
      "text/plain": [
       "0.20415264004016737"
      ]
     },
     "execution_count": 43,
     "metadata": {},
     "output_type": "execute_result"
    }
   ],
   "source": [
    "erk.portfolio_return(weights, expected_r[l])"
   ]
  },
  {
   "cell_type": "code",
   "execution_count": 44,
   "metadata": {},
   "outputs": [
    {
     "data": {
      "text/plain": [
       "0.05089495548109203"
      ]
     },
     "execution_count": 44,
     "metadata": {},
     "output_type": "execute_result"
    }
   ],
   "source": [
    "erk.portfolio_vol(weights, cov.loc[l,l])"
   ]
  },
  {
   "cell_type": "markdown",
   "metadata": {},
   "source": [
    "# 2 Asset Frontier"
   ]
  },
  {
   "cell_type": "code",
   "execution_count": 60,
   "metadata": {},
   "outputs": [
    {
     "data": {
      "text/plain": [
       "Gold   -0.133422\n",
       "Fin     0.334837\n",
       "dtype: float64"
      ]
     },
     "execution_count": 60,
     "metadata": {},
     "output_type": "execute_result"
    }
   ],
   "source": [
    "l = [\"Gold\", \"Fin\"]\n",
    "expected_r[l]"
   ]
  },
  {
   "cell_type": "code",
   "execution_count": 63,
   "metadata": {},
   "outputs": [
    {
     "data": {
      "text/plain": [
       "array([1., 0.])"
      ]
     },
     "execution_count": 63,
     "metadata": {},
     "output_type": "execute_result"
    }
   ],
   "source": [
    "n_points = 20\n",
    "weights = [np.array([w,1-w]) for w in np.linspace(0,1,n_points) ]\n",
    "weights[19]"
   ]
  },
  {
   "cell_type": "code",
   "execution_count": 58,
   "metadata": {},
   "outputs": [],
   "source": [
    "rets = [erk.portfolio_return(w, expected_r[l]) for w in weights]"
   ]
  },
  {
   "cell_type": "code",
   "execution_count": 67,
   "metadata": {},
   "outputs": [],
   "source": [
    "vols = [erk.portfolio_vol(w, cov.loc[l,l]) for w in weights]"
   ]
  },
  {
   "cell_type": "code",
   "execution_count": 72,
   "metadata": {},
   "outputs": [
    {
     "data": {
      "text/plain": [
       "<AxesSubplot: xlabel='Vol', ylabel='R'>"
      ]
     },
     "execution_count": 72,
     "metadata": {},
     "output_type": "execute_result"
    },
    {
     "data": {
      "image/png": "[encoded data removed]",
      "text/plain": [
       "<Figure size 640x480 with 1 Axes>"
      ]
     },
     "metadata": {},
     "output_type": "display_data"
    }
   ],
   "source": [
    "ef = pd.DataFrame({\"R\": rets,\n",
    "                   \"Vol\":vol,\n",
    "    \n",
    "})\n",
    "ef.plot.scatter(x='Vol', y='R')"
   ]
  },
  {
   "cell_type": "code",
   "execution_count": 99,
   "metadata": {},
   "outputs": [
    {
     "data": {
      "text/plain": [
       "<AxesSubplot: xlabel='Volatility'>"
      ]
     },
     "execution_count": 99,
     "metadata": {},
     "output_type": "execute_result"
    },
    {
     "data": {
      "image/png": "[encoded data removed]",
      "text/plain": [
       "<Figure size 640x480 with 1 Axes>"
      ]
     },
     "metadata": {},
     "output_type": "display_data"
    }
   ],
   "source": [
    "l = [\"Fin\", \"Beer\"]\n",
    "erk.plot_ef2(20, expected_r[l], cov.loc[l,l])"
   ]
  }
 ],
 "metadata": {
  "kernelspec": {
   "display_name": "Python 3 (ipykernel)",
   "language": "python",
   "name": "python3"
  },
  "language_info": {
   "codemirror_mode": {
    "name": "ipython",
    "version": 3
   },
   "file_extension": ".py",
   "mimetype": "text/x-python",
   "name": "python",
   "nbconvert_exporter": "python",
   "pygments_lexer": "ipython3",
   "version": "3.8.3"
  }
 },
 "nbformat": 4,
 "nbformat_minor": 4
}
